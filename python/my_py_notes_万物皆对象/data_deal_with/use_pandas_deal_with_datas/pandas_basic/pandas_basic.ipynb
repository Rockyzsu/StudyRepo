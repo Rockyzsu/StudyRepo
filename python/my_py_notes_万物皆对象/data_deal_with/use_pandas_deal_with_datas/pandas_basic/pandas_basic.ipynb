{
 "cells": [
  {
   "cell_type": "code",
   "execution_count": 1,
   "metadata": {
    "collapsed": true
   },
   "outputs": [],
   "source": [
    "import pandas as pd\n",
    "import numpy as np"
   ]
  },
  {
   "cell_type": "code",
   "execution_count": 3,
   "metadata": {},
   "outputs": [
    {
     "name": "stdout",
     "output_type": "stream",
     "text": [
      "0     1.0\n",
      "1     3.0\n",
      "2     6.0\n",
      "3     NaN\n",
      "4    44.0\n",
      "5     1.0\n",
      "dtype: float64\n"
     ]
    }
   ],
   "source": [
    "s = pd.Series([1, 3, 6, np.nan, 44, 1])  # 返回一个纵向的一系列的表\n",
    "print(s)"
   ]
  },
  {
   "cell_type": "code",
   "execution_count": 4,
   "metadata": {
    "scrolled": true
   },
   "outputs": [
    {
     "name": "stdout",
     "output_type": "stream",
     "text": [
      "DatetimeIndex(['2017-01-01', '2017-01-02', '2017-01-03', '2017-01-04',\n",
      "               '2017-01-05', '2017-01-06'],\n",
      "              dtype='datetime64[ns]', freq='D')\n"
     ]
    }
   ],
   "source": [
    "dates = pd.date_range('20170101', periods=6)  # pandas.date_range() -> Return a fixed frequency datetime index, with day (calendar) as the default\n",
    "print(dates)"
   ]
  },
  {
   "cell_type": "code",
   "execution_count": 9,
   "metadata": {},
   "outputs": [
    {
     "name": "stdout",
     "output_type": "stream",
     "text": [
      "                   a         b         c         d\n",
      "2017-01-01 -1.245149 -1.108639  1.265305 -0.703293\n",
      "2017-01-02 -0.281751 -0.055319 -0.226188  1.753204\n",
      "2017-01-03 -0.251954  0.992227  0.827644  0.057099\n",
      "2017-01-04  1.464401 -0.212964  1.928017  0.007402\n",
      "2017-01-05 -0.553661  0.437894  0.084916 -1.217982\n",
      "2017-01-06 -0.506507  3.286344 -0.386225 -0.343505\n"
     ]
    }
   ],
   "source": [
    "df = pd.DataFrame(np.random.randn(6, 4), index=dates, columns=['a','b','c','d'])\n",
    "print(df)"
   ]
  },
  {
   "cell_type": "code",
   "execution_count": 11,
   "metadata": {},
   "outputs": [
    {
     "name": "stdout",
     "output_type": "stream",
     "text": [
      "   0  1   2   3\n",
      "0  0  1   2   3\n",
      "1  4  5   6   7\n",
      "2  8  9  10  11\n",
      "     A          B  C\n",
      "0  1.0 2017-01-01  0\n",
      "1  1.0 2017-01-01  1\n",
      "2  1.0 2017-01-01  2\n",
      "3  1.0 2017-01-01  3\n",
      "A           float64\n",
      "B    datetime64[ns]\n",
      "C             int32\n",
      "dtype: object\n"
     ]
    }
   ],
   "source": [
    "df1 = pd.DataFrame(np.arange(12).reshape((3,4))) # 行号默认为0 1 2 3 列 0 1 2 \n",
    "print(df1)\n",
    "\n",
    "# 传入字典初始化\n",
    "df2 = pd.DataFrame({'A':1.,'B': pd.Timestamp('20170101'),'C':np.arange(4, dtype='int32')}) \n",
    "print(df2)\n",
    "print(df2.dtypes)"
   ]
  },
  {
   "cell_type": "code",
   "execution_count": 15,
   "metadata": {},
   "outputs": [
    {
     "name": "stdout",
     "output_type": "stream",
     "text": [
      "RangeIndex(start=0, stop=4, step=1)\n",
      "Index(['A', 'B', 'C'], dtype='object')\n",
      "[[1.0 Timestamp('2017-01-01 00:00:00') 0]\n",
      " [1.0 Timestamp('2017-01-01 00:00:00') 1]\n",
      " [1.0 Timestamp('2017-01-01 00:00:00') 2]\n",
      " [1.0 Timestamp('2017-01-01 00:00:00') 3]]\n",
      "         A         C\n",
      "count  4.0  4.000000\n",
      "mean   1.0  1.500000\n",
      "std    0.0  1.290994\n",
      "min    1.0  0.000000\n",
      "25%    1.0  0.750000\n",
      "50%    1.0  1.500000\n",
      "75%    1.0  2.250000\n",
      "max    1.0  3.000000\n"
     ]
    }
   ],
   "source": [
    "print(df2.index)\n",
    "\n",
    "print(df2.columns)\n",
    "\n",
    "print(df2.values)\n",
    "\n",
    "print(df2.describe())"
   ]
  },
  {
   "cell_type": "code",
   "execution_count": 16,
   "metadata": {},
   "outputs": [
    {
     "data": {
      "text/html": [
       "<div>\n",
       "<style>\n",
       "    .dataframe thead tr:only-child th {\n",
       "        text-align: right;\n",
       "    }\n",
       "\n",
       "    .dataframe thead th {\n",
       "        text-align: left;\n",
       "    }\n",
       "\n",
       "    .dataframe tbody tr th {\n",
       "        vertical-align: top;\n",
       "    }\n",
       "</style>\n",
       "<table border=\"1\" class=\"dataframe\">\n",
       "  <thead>\n",
       "    <tr style=\"text-align: right;\">\n",
       "      <th></th>\n",
       "      <th>A</th>\n",
       "      <th>B</th>\n",
       "      <th>C</th>\n",
       "    </tr>\n",
       "  </thead>\n",
       "  <tbody>\n",
       "    <tr>\n",
       "      <th>0</th>\n",
       "      <td>1.0</td>\n",
       "      <td>2017-01-01</td>\n",
       "      <td>0</td>\n",
       "    </tr>\n",
       "    <tr>\n",
       "      <th>1</th>\n",
       "      <td>1.0</td>\n",
       "      <td>2017-01-01</td>\n",
       "      <td>1</td>\n",
       "    </tr>\n",
       "    <tr>\n",
       "      <th>2</th>\n",
       "      <td>1.0</td>\n",
       "      <td>2017-01-01</td>\n",
       "      <td>2</td>\n",
       "    </tr>\n",
       "    <tr>\n",
       "      <th>3</th>\n",
       "      <td>1.0</td>\n",
       "      <td>2017-01-01</td>\n",
       "      <td>3</td>\n",
       "    </tr>\n",
       "  </tbody>\n",
       "</table>\n",
       "</div>"
      ],
      "text/plain": [
       "     A          B  C\n",
       "0  1.0 2017-01-01  0\n",
       "1  1.0 2017-01-01  1\n",
       "2  1.0 2017-01-01  2\n",
       "3  1.0 2017-01-01  3"
      ]
     },
     "execution_count": 16,
     "metadata": {},
     "output_type": "execute_result"
    }
   ],
   "source": [
    "df2"
   ]
  },
  {
   "cell_type": "code",
   "execution_count": 17,
   "metadata": {
    "scrolled": true
   },
   "outputs": [
    {
     "data": {
      "text/html": [
       "<div>\n",
       "<style>\n",
       "    .dataframe thead tr:only-child th {\n",
       "        text-align: right;\n",
       "    }\n",
       "\n",
       "    .dataframe thead th {\n",
       "        text-align: left;\n",
       "    }\n",
       "\n",
       "    .dataframe tbody tr th {\n",
       "        vertical-align: top;\n",
       "    }\n",
       "</style>\n",
       "<table border=\"1\" class=\"dataframe\">\n",
       "  <thead>\n",
       "    <tr style=\"text-align: right;\">\n",
       "      <th></th>\n",
       "      <th>0</th>\n",
       "      <th>1</th>\n",
       "      <th>2</th>\n",
       "      <th>3</th>\n",
       "    </tr>\n",
       "  </thead>\n",
       "  <tbody>\n",
       "    <tr>\n",
       "      <th>A</th>\n",
       "      <td>1</td>\n",
       "      <td>1</td>\n",
       "      <td>1</td>\n",
       "      <td>1</td>\n",
       "    </tr>\n",
       "    <tr>\n",
       "      <th>B</th>\n",
       "      <td>2017-01-01 00:00:00</td>\n",
       "      <td>2017-01-01 00:00:00</td>\n",
       "      <td>2017-01-01 00:00:00</td>\n",
       "      <td>2017-01-01 00:00:00</td>\n",
       "    </tr>\n",
       "    <tr>\n",
       "      <th>C</th>\n",
       "      <td>0</td>\n",
       "      <td>1</td>\n",
       "      <td>2</td>\n",
       "      <td>3</td>\n",
       "    </tr>\n",
       "  </tbody>\n",
       "</table>\n",
       "</div>"
      ],
      "text/plain": [
       "                     0                    1                    2  \\\n",
       "A                    1                    1                    1   \n",
       "B  2017-01-01 00:00:00  2017-01-01 00:00:00  2017-01-01 00:00:00   \n",
       "C                    0                    1                    2   \n",
       "\n",
       "                     3  \n",
       "A                    1  \n",
       "B  2017-01-01 00:00:00  \n",
       "C                    3  "
      ]
     },
     "execution_count": 17,
     "metadata": {},
     "output_type": "execute_result"
    }
   ],
   "source": [
    "df2.T  # df2.T df2的纵向的columns"
   ]
  },
  {
   "cell_type": "code",
   "execution_count": 18,
   "metadata": {},
   "outputs": [
    {
     "data": {
      "text/html": [
       "<div>\n",
       "<style>\n",
       "    .dataframe thead tr:only-child th {\n",
       "        text-align: right;\n",
       "    }\n",
       "\n",
       "    .dataframe thead th {\n",
       "        text-align: left;\n",
       "    }\n",
       "\n",
       "    .dataframe tbody tr th {\n",
       "        vertical-align: top;\n",
       "    }\n",
       "</style>\n",
       "<table border=\"1\" class=\"dataframe\">\n",
       "  <thead>\n",
       "    <tr style=\"text-align: right;\">\n",
       "      <th></th>\n",
       "      <th>C</th>\n",
       "      <th>B</th>\n",
       "      <th>A</th>\n",
       "    </tr>\n",
       "  </thead>\n",
       "  <tbody>\n",
       "    <tr>\n",
       "      <th>0</th>\n",
       "      <td>0</td>\n",
       "      <td>2017-01-01</td>\n",
       "      <td>1.0</td>\n",
       "    </tr>\n",
       "    <tr>\n",
       "      <th>1</th>\n",
       "      <td>1</td>\n",
       "      <td>2017-01-01</td>\n",
       "      <td>1.0</td>\n",
       "    </tr>\n",
       "    <tr>\n",
       "      <th>2</th>\n",
       "      <td>2</td>\n",
       "      <td>2017-01-01</td>\n",
       "      <td>1.0</td>\n",
       "    </tr>\n",
       "    <tr>\n",
       "      <th>3</th>\n",
       "      <td>3</td>\n",
       "      <td>2017-01-01</td>\n",
       "      <td>1.0</td>\n",
       "    </tr>\n",
       "  </tbody>\n",
       "</table>\n",
       "</div>"
      ],
      "text/plain": [
       "   C          B    A\n",
       "0  0 2017-01-01  1.0\n",
       "1  1 2017-01-01  1.0\n",
       "2  2 2017-01-01  1.0\n",
       "3  3 2017-01-01  1.0"
      ]
     },
     "execution_count": 18,
     "metadata": {},
     "output_type": "execute_result"
    }
   ],
   "source": [
    "df2.sort_index(axis=1, ascending=False) # 倒序排列"
   ]
  },
  {
   "cell_type": "code",
   "execution_count": 10,
   "metadata": {
    "scrolled": true
   },
   "outputs": [
    {
     "data": {
      "text/html": [
       "<div>\n",
       "<table border=\"1\" class=\"dataframe\">\n",
       "  <thead>\n",
       "    <tr style=\"text-align: right;\">\n",
       "      <th></th>\n",
       "      <th>A</th>\n",
       "      <th>B</th>\n",
       "      <th>C</th>\n",
       "    </tr>\n",
       "  </thead>\n",
       "  <tbody>\n",
       "    <tr>\n",
       "      <th>3</th>\n",
       "      <td>1.0</td>\n",
       "      <td>2016-01-01</td>\n",
       "      <td>3</td>\n",
       "    </tr>\n",
       "    <tr>\n",
       "      <th>2</th>\n",
       "      <td>1.0</td>\n",
       "      <td>2016-01-01</td>\n",
       "      <td>2</td>\n",
       "    </tr>\n",
       "    <tr>\n",
       "      <th>1</th>\n",
       "      <td>1.0</td>\n",
       "      <td>2016-01-01</td>\n",
       "      <td>1</td>\n",
       "    </tr>\n",
       "    <tr>\n",
       "      <th>0</th>\n",
       "      <td>1.0</td>\n",
       "      <td>2016-01-01</td>\n",
       "      <td>0</td>\n",
       "    </tr>\n",
       "  </tbody>\n",
       "</table>\n",
       "</div>"
      ],
      "text/plain": [
       "     A          B  C\n",
       "3  1.0 2016-01-01  3\n",
       "2  1.0 2016-01-01  2\n",
       "1  1.0 2016-01-01  1\n",
       "0  1.0 2016-01-01  0"
      ]
     },
     "execution_count": 10,
     "metadata": {},
     "output_type": "execute_result"
    }
   ],
   "source": [
    "df2.sort_values(by='C', ascending=False) # 按照某一列的值排序"
   ]
  },
  {
   "cell_type": "code",
   "execution_count": 19,
   "metadata": {},
   "outputs": [
    {
     "name": "stdout",
     "output_type": "stream",
     "text": [
      "2017-01-01     0\n",
      "2017-01-02     4\n",
      "2017-01-03     8\n",
      "2017-01-04    12\n",
      "2017-01-05    16\n",
      "2017-01-06    20\n",
      "Freq: D, Name: A, dtype: int64\n",
      "2017-01-01     0\n",
      "2017-01-02     4\n",
      "2017-01-03     8\n",
      "2017-01-04    12\n",
      "2017-01-05    16\n",
      "2017-01-06    20\n",
      "Freq: D, Name: A, dtype: int64\n",
      "            A  B   C   D\n",
      "2017-01-01  0  1   2   3\n",
      "2017-01-02  4  5   6   7\n",
      "2017-01-03  8  9  10  11\n"
     ]
    }
   ],
   "source": [
    "dates = pd.date_range('20170101',periods=6)\n",
    "df = pd.DataFrame(np.arange(24).reshape((6,4)), index=dates, columns=['A','B','C','D'])\n",
    "\n",
    "print(df['A']) \n",
    "\n",
    "print(df.A)\n",
    "\n",
    "print(df['20170101':'20170103'])\n"
   ]
  },
  {
   "cell_type": "code",
   "execution_count": 20,
   "metadata": {},
   "outputs": [
    {
     "name": "stdout",
     "output_type": "stream",
     "text": [
      "A    0\n",
      "B    1\n",
      "C    2\n",
      "D    3\n",
      "Name: 2017-01-01 00:00:00, dtype: int64\n",
      "A    0\n",
      "B    1\n",
      "Name: 2017-01-01 00:00:00, dtype: int64\n"
     ]
    }
   ],
   "source": [
    "# label:loc\n",
    "print(df.loc['20170101']) \n",
    "\n",
    "print(df.loc['20170101', ['A','B']])"
   ]
  },
  {
   "cell_type": "code",
   "execution_count": 21,
   "metadata": {},
   "outputs": [
    {
     "name": "stdout",
     "output_type": "stream",
     "text": [
      "             B   C\n",
      "2017-01-04  13  14\n",
      "2017-01-05  17  18\n"
     ]
    }
   ],
   "source": [
    "# iloc\n",
    "print(df.iloc[3:5, 1:3])"
   ]
  },
  {
   "cell_type": "code",
   "execution_count": 22,
   "metadata": {},
   "outputs": [
    {
     "name": "stdout",
     "output_type": "stream",
     "text": [
      "            A   C\n",
      "2017-01-01  0   2\n",
      "2017-01-02  4   6\n",
      "2017-01-03  8  10\n"
     ]
    },
    {
     "name": "stderr",
     "output_type": "stream",
     "text": [
      "/usr/local/lib/python3.6/site-packages/ipykernel_launcher.py:1: DeprecationWarning: \n",
      ".ix is deprecated. Please use\n",
      ".loc for label based indexing or\n",
      ".iloc for positional indexing\n",
      "\n",
      "See the documentation here:\n",
      "http://pandas.pydata.org/pandas-docs/stable/indexing.html#ix-indexer-is-deprecated\n",
      "  \"\"\"Entry point for launching an IPython kernel.\n"
     ]
    }
   ],
   "source": [
    "print(df.ix[:3, ['A','C']])"
   ]
  },
  {
   "cell_type": "code",
   "execution_count": 15,
   "metadata": {},
   "outputs": [
    {
     "name": "stdout",
     "output_type": "stream",
     "text": [
      "10\n"
     ]
    }
   ],
   "source": [
    "print(df.iloc[2,2])"
   ]
  },
  {
   "cell_type": "code",
   "execution_count": 23,
   "metadata": {},
   "outputs": [
    {
     "data": {
      "text/html": [
       "<div>\n",
       "<style>\n",
       "    .dataframe thead tr:only-child th {\n",
       "        text-align: right;\n",
       "    }\n",
       "\n",
       "    .dataframe thead th {\n",
       "        text-align: left;\n",
       "    }\n",
       "\n",
       "    .dataframe tbody tr th {\n",
       "        vertical-align: top;\n",
       "    }\n",
       "</style>\n",
       "<table border=\"1\" class=\"dataframe\">\n",
       "  <thead>\n",
       "    <tr style=\"text-align: right;\">\n",
       "      <th></th>\n",
       "      <th>A</th>\n",
       "      <th>B</th>\n",
       "      <th>C</th>\n",
       "      <th>D</th>\n",
       "      <th>F</th>\n",
       "    </tr>\n",
       "  </thead>\n",
       "  <tbody>\n",
       "    <tr>\n",
       "      <th>2017-01-01</th>\n",
       "      <td>0</td>\n",
       "      <td>1</td>\n",
       "      <td>2</td>\n",
       "      <td>3</td>\n",
       "      <td>NaN</td>\n",
       "    </tr>\n",
       "    <tr>\n",
       "      <th>2017-01-02</th>\n",
       "      <td>4</td>\n",
       "      <td>5</td>\n",
       "      <td>6</td>\n",
       "      <td>7</td>\n",
       "      <td>NaN</td>\n",
       "    </tr>\n",
       "    <tr>\n",
       "      <th>2017-01-03</th>\n",
       "      <td>8</td>\n",
       "      <td>9</td>\n",
       "      <td>10</td>\n",
       "      <td>11</td>\n",
       "      <td>NaN</td>\n",
       "    </tr>\n",
       "    <tr>\n",
       "      <th>2017-01-04</th>\n",
       "      <td>12</td>\n",
       "      <td>13</td>\n",
       "      <td>14</td>\n",
       "      <td>15</td>\n",
       "      <td>NaN</td>\n",
       "    </tr>\n",
       "    <tr>\n",
       "      <th>2017-01-05</th>\n",
       "      <td>16</td>\n",
       "      <td>17</td>\n",
       "      <td>18</td>\n",
       "      <td>19</td>\n",
       "      <td>NaN</td>\n",
       "    </tr>\n",
       "    <tr>\n",
       "      <th>2017-01-06</th>\n",
       "      <td>20</td>\n",
       "      <td>21</td>\n",
       "      <td>22</td>\n",
       "      <td>23</td>\n",
       "      <td>NaN</td>\n",
       "    </tr>\n",
       "  </tbody>\n",
       "</table>\n",
       "</div>"
      ],
      "text/plain": [
       "             A   B   C   D   F\n",
       "2017-01-01   0   1   2   3 NaN\n",
       "2017-01-02   4   5   6   7 NaN\n",
       "2017-01-03   8   9  10  11 NaN\n",
       "2017-01-04  12  13  14  15 NaN\n",
       "2017-01-05  16  17  18  19 NaN\n",
       "2017-01-06  20  21  22  23 NaN"
      ]
     },
     "execution_count": 23,
     "metadata": {},
     "output_type": "execute_result"
    }
   ],
   "source": [
    "df['F'] = np.nan\n",
    "df"
   ]
  },
  {
   "cell_type": "code",
   "execution_count": 24,
   "metadata": {},
   "outputs": [
    {
     "name": "stdout",
     "output_type": "stream",
     "text": [
      "               A     B   C   D  F\n",
      "2017-01-01   NaN   1.0   2   3  0\n",
      "2017-01-02   4.0   5.0   6   7  1\n",
      "2017-01-03   8.0   9.0  10  11  2\n",
      "2017-01-04  12.0  13.0  14  15  3\n",
      "2017-01-05  16.0   NaN  18  19  4\n",
      "2017-01-06  20.0  21.0  22  23  5\n",
      "               A     B   C   D  F\n",
      "2017-01-02   4.0   5.0   6   7  1\n",
      "2017-01-03   8.0   9.0  10  11  2\n",
      "2017-01-04  12.0  13.0  14  15  3\n",
      "2017-01-06  20.0  21.0  22  23  5\n",
      "             C   D  F\n",
      "2017-01-01   2   3  0\n",
      "2017-01-02   6   7  1\n",
      "2017-01-03  10  11  2\n",
      "2017-01-04  14  15  3\n",
      "2017-01-05  18  19  4\n",
      "2017-01-06  22  23  5\n",
      "               A     B   C   D  F\n",
      "2017-01-01   NaN   1.0   2   3  0\n",
      "2017-01-02   4.0   5.0   6   7  1\n",
      "2017-01-03   8.0   9.0  10  11  2\n",
      "2017-01-04  12.0  13.0  14  15  3\n",
      "2017-01-05  16.0   NaN  18  19  4\n",
      "2017-01-06  20.0  21.0  22  23  5\n",
      "               A     B   C   D  F\n",
      "2017-01-01   0.0   1.0   2   3  0\n",
      "2017-01-02   4.0   5.0   6   7  1\n",
      "2017-01-03   8.0   9.0  10  11  2\n",
      "2017-01-04  12.0  13.0  14  15  3\n",
      "2017-01-05  16.0   0.0  18  19  4\n",
      "2017-01-06  20.0  21.0  22  23  5\n",
      "                A      B      C      D      F\n",
      "2017-01-01   True  False  False  False  False\n",
      "2017-01-02  False  False  False  False  False\n",
      "2017-01-03  False  False  False  False  False\n",
      "2017-01-04  False  False  False  False  False\n",
      "2017-01-05  False   True  False  False  False\n",
      "2017-01-06  False  False  False  False  False\n",
      "True\n"
     ]
    }
   ],
   "source": [
    "# 处理缺失数据\n",
    "\n",
    "df['F'] = np.arange(6)\n",
    "\n",
    "df.iloc[0, 0] = np.nan\n",
    "df.iloc[4, 1] = np.nan\n",
    "\n",
    "print(df)\n",
    "\n",
    "print(df.dropna(axis=0)) # 如果有nan值，删除整行\n",
    "\n",
    "print(df.dropna(axis=1, how='any')) # 如果有nan值，删除整列\n",
    "\n",
    "print(df.dropna(axis=1, how='all')) # 如果全部为nan，删除列\n",
    "\n",
    "print(df.fillna(value=0)) # 为nan 则填充为0\n",
    "\n",
    "print(df.isnull()) # 是否为nan\n",
    "\n",
    "print(np.any(df.isnull()) == True) # 判断是否有true"
   ]
  },
  {
   "cell_type": "code",
   "execution_count": 27,
   "metadata": {},
   "outputs": [
    {
     "name": "stdout",
     "output_type": "stream",
     "text": [
      "   StudentID    name    age   gender\n",
      "0        1100   Kelly    22   Female\n",
      "1        1101     Clo    21   Female\n",
      "2        1102  Tilly     22   Female\n",
      "3        1103    Tony    24     Male\n"
     ]
    }
   ],
   "source": [
    "#读取文件\n",
    "\n",
    "data = pd.read_csv('student.csv')\n",
    "print(data)\n",
    "\n",
    "data.to_pickle('student.pickle')\n"
   ]
  },
  {
   "cell_type": "code",
   "execution_count": 26,
   "metadata": {
    "scrolled": true
   },
   "outputs": [
    {
     "name": "stdout",
     "output_type": "stream",
     "text": [
      "     a    b    c    d\n",
      "0  0.0  0.0  0.0  0.0\n",
      "1  0.0  0.0  0.0  0.0\n",
      "2  0.0  0.0  0.0  0.0\n",
      "3  1.0  1.0  1.0  1.0\n",
      "4  1.0  1.0  1.0  1.0\n",
      "5  1.0  1.0  1.0  1.0\n",
      "6  2.0  2.0  2.0  2.0\n",
      "7  2.0  2.0  2.0  2.0\n",
      "8  2.0  2.0  2.0  2.0\n"
     ]
    }
   ],
   "source": [
    "df1 = pd.DataFrame(np.ones((3,4))*0, columns=['a','b','c','d'])\n",
    "df2 = pd.DataFrame(np.ones((3,4))*1, columns=['a','b','c','d'])\n",
    "df3 = pd.DataFrame(np.ones((3,4))*2, columns=['a','b','c','d'])\n",
    "\n",
    "res = pd.concat([df1,df2,df3], axis=0, ignore_index=True)\n",
    "print(res)"
   ]
  },
  {
   "cell_type": "code",
   "execution_count": 20,
   "metadata": {},
   "outputs": [
    {
     "name": "stdout",
     "output_type": "stream",
     "text": [
      "     a    b    c    d    e\n",
      "0  0.0  0.0  0.0  0.0  NaN\n",
      "1  0.0  0.0  0.0  0.0  NaN\n",
      "2  0.0  0.0  0.0  0.0  NaN\n",
      "3  1.0  1.0  1.0  NaN  1.0\n",
      "4  1.0  1.0  1.0  NaN  1.0\n",
      "5  1.0  1.0  1.0  NaN  1.0\n",
      "     a    b    c\n",
      "0  0.0  0.0  0.0\n",
      "1  0.0  0.0  0.0\n",
      "2  0.0  0.0  0.0\n",
      "3  1.0  1.0  1.0\n",
      "4  1.0  1.0  1.0\n",
      "5  1.0  1.0  1.0\n"
     ]
    }
   ],
   "source": [
    "df1 = pd.DataFrame(np.ones((3,4))*0, columns=['a','b','c','d'])\n",
    "df2 = pd.DataFrame(np.ones((3,4))*1, columns=['a','b','c','e'])\n",
    "\n",
    "print(pd.concat([df1,df2], join='outer', ignore_index=True))\n",
    "print(pd.concat([df1,df2], join='inner', ignore_index=True))\n",
    "      "
   ]
  },
  {
   "cell_type": "code",
   "execution_count": 21,
   "metadata": {},
   "outputs": [
    {
     "name": "stdout",
     "output_type": "stream",
     "text": [
      "     a    b    c    d    a    b    c    e\n",
      "1  0.0  0.0  0.0  0.0  NaN  NaN  NaN  NaN\n",
      "2  0.0  0.0  0.0  0.0  1.0  1.0  1.0  1.0\n",
      "3  0.0  0.0  0.0  0.0  1.0  1.0  1.0  1.0\n"
     ]
    }
   ],
   "source": [
    "df1 = pd.DataFrame(np.ones((3,4))*0, columns=['a','b','c','d'],index=[1,2,3])\n",
    "df2 = pd.DataFrame(np.ones((3,4))*1, columns=['a','b','c','e'],index=[2,3,4])\n",
    "\n",
    "print(pd.concat([df1,df2], axis=1, join_axes=[df1.index])) #只考虑df1的索引"
   ]
  },
  {
   "cell_type": "code",
   "execution_count": 22,
   "metadata": {},
   "outputs": [
    {
     "name": "stdout",
     "output_type": "stream",
     "text": [
      "     a    b    c    d    e\n",
      "0  0.0  0.0  0.0  0.0  NaN\n",
      "1  0.0  0.0  0.0  0.0  NaN\n",
      "2  0.0  0.0  0.0  0.0  NaN\n",
      "3  1.0  1.0  1.0  NaN  1.0\n",
      "4  1.0  1.0  1.0  NaN  1.0\n",
      "5  1.0  1.0  1.0  NaN  1.0\n",
      "     a    b    c    d\n",
      "0  0.0  0.0  0.0  0.0\n",
      "1  0.0  0.0  0.0  0.0\n",
      "2  0.0  0.0  0.0  0.0\n",
      "3  1.0  2.0  3.0  4.0\n"
     ]
    }
   ],
   "source": [
    "res = df1.append(df2, ignore_index=True)\n",
    "print(res)\n",
    "\n",
    "s1 = pd.Series([1,2,3,4], index=['a','b','c','d'])\n",
    "res = df1.append(s1, ignore_index=True)\n",
    "print(res)\n"
   ]
  },
  {
   "cell_type": "code",
   "execution_count": 28,
   "metadata": {},
   "outputs": [
    {
     "name": "stdout",
     "output_type": "stream",
     "text": [
      "    A key\n",
      "0  a0  k0\n",
      "1  a1  k1\n",
      "2  a2  k2\n",
      "3  a3  k3\n",
      "    B key\n",
      "0  b0  k0\n",
      "1  b1  k1\n",
      "2  b2  k2\n",
      "3  b3  k3\n",
      "    A key   B\n",
      "0  a0  k0  b0\n",
      "1  a1  k1  b1\n",
      "2  a2  k2  b2\n",
      "3  a3  k3  b3\n"
     ]
    }
   ],
   "source": [
    "left = pd.DataFrame({'key':['k0','k1','k2','k3'],\n",
    "                     'A':['a0','a1','a2','a3']})\n",
    "\n",
    "right = pd.DataFrame({'key':['k0','k1','k2','k3'],\n",
    "                     'B':['b0','b1','b2','b3']})\n",
    "\n",
    "print(left)\n",
    "print(right)\n",
    "\n",
    "print(pd.merge(left, right, on='key')) # 根据key合并"
   ]
  },
  {
   "cell_type": "code",
   "execution_count": 24,
   "metadata": {},
   "outputs": [
    {
     "name": "stdout",
     "output_type": "stream",
     "text": [
      "    A key\n",
      "0  a2  k2\n",
      "1  a3  k3\n",
      "      A   key\n",
      "0    a2    k2\n",
      "1    a3    k3\n",
      "2    a0  k100\n",
      "3  a100    k1\n",
      "      A   key indicator_column\n",
      "0    a0    k0        left_only\n",
      "1    a1    k1        left_only\n",
      "2    a2    k2             both\n",
      "3    a3    k3             both\n",
      "4    a0  k100       right_only\n",
      "5  a100    k1       right_only\n"
     ]
    }
   ],
   "source": [
    "left = pd.DataFrame({'key':['k0','k1','k2','k3'],\n",
    "                     'A':['a0','a1','a2','a3']})\n",
    "\n",
    "right = pd.DataFrame({'key':['k100','k1','k2','k3'],\n",
    "                      ''\n",
    "                     'A':['a0','a100','a2','a3']})\n",
    " \n",
    "print(pd.merge(left,right, on=['key','A'])) # 默认为inner 只找相同的 \n",
    "\n",
    "print(pd.merge(left,right, on=['key','A'],how='right'))# 以right为准\n",
    "\n",
    "print(pd.merge(left,right, on=['key','A'],how='outer', indicator=\"indicator_column\"))# 以right为准"
   ]
  },
  {
   "cell_type": "code",
   "execution_count": 27,
   "metadata": {},
   "outputs": [
    {
     "name": "stdout",
     "output_type": "stream",
     "text": [
      "   age_boy   k  age_girl\n",
      "0        1  k0         4\n",
      "1        1  k0         5\n"
     ]
    }
   ],
   "source": [
    "boys = pd.DataFrame({'k':['k0','k1','k2'], 'age':[1,2,3]})\n",
    "girls = pd.DataFrame({'k':['k0','k0','k3'], 'age':[4,5,6]})\n",
    "\n",
    "res = pd.merge(boys, girls, on='k', suffixes=['_boy','_girl'], how='inner')\n",
    "\n",
    "print(res)"
   ]
  },
  {
   "cell_type": "code",
   "execution_count": 34,
   "metadata": {},
   "outputs": [],
   "source": [
    "import matplotlib.pyplot as plt\n",
    "\n",
    "\n",
    "data = pd.DataFrame(np.random.randn(1000,4), index=np.arange(1000), columns=list(\"ABCD\"))\n",
    "\n",
    "data = data.cumsum()\n",
    "\n",
    "ax = data.plot.scatter(x='A',y='B',color='DarkBlue',label=\"Class 1\")\n",
    "data.plot.scatter(x='A',y='C',color='DarkGreen',label=\"Class 2\",ax=ax)\n",
    "\n",
    "plt.show()\n",
    "\n"
   ]
  },
  {
   "cell_type": "code",
   "execution_count": null,
   "metadata": {
    "collapsed": true
   },
   "outputs": [],
   "source": [
    "# 完"
   ]
  }
 ],
 "metadata": {
  "anaconda-cloud": {},
  "kernelspec": {
   "display_name": "Python 3",
   "language": "python",
   "name": "python3"
  },
  "language_info": {
   "codemirror_mode": {
    "name": "ipython",
    "version": 3
   },
   "file_extension": ".py",
   "mimetype": "text/x-python",
   "name": "python",
   "nbconvert_exporter": "python",
   "pygments_lexer": "ipython3",
   "version": "3.6.2"
  }
 },
 "nbformat": 4,
 "nbformat_minor": 1
}
